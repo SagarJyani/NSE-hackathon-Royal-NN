{
 "cells": [
  {
   "cell_type": "code",
   "execution_count": 1,
   "metadata": {
    "ExecuteTime": {
     "end_time": "2018-03-18T04:56:30.057059Z",
     "start_time": "2018-03-18T04:56:30.048306Z"
    },
    "collapsed": true
   },
   "outputs": [],
   "source": [
    "from __future__ import print_function\n",
    "from ipywidgets import interact, interactive, fixed, interact_manual\n",
    "import ipywidgets as widgets\n",
    "from IPython.display import display\n",
    "from ipywidgets import *\n",
    "from ipywidgets import Button, HBox, VBox"
   ]
  },
  {
   "cell_type": "code",
   "execution_count": 2,
   "metadata": {
    "ExecuteTime": {
     "end_time": "2018-03-18T04:56:31.003000Z",
     "start_time": "2018-03-18T04:56:30.733500Z"
    },
    "code_folding": [
     0
    ],
    "collapsed": true
   },
   "outputs": [],
   "source": [
    "# Form back\n",
    "name_to_code = {\n",
    "    'Infosys Ltd.': 'INFY',\n",
    "    'Tata Consultancy Services Ltd.': 'TCS',\n",
    "    'Aptech Ltd.': 'APTECHT'\n",
    "}\n",
    "\n",
    "code_to_name = {\n",
    "    'TCS': 'Tata Consultancy Services Ltd.',\n",
    "    'APTECHT': 'Aptech Ltd.',\n",
    "    'INFY': 'Infosys Ltd.'\n",
    "}\n",
    "\n",
    "code_to_id = {\n",
    "    'INFY': 123,\n",
    "    'TCS': 234,\n",
    "    'APTECHT': 345\n",
    "}\n",
    "\n",
    "# labels for form entity\n",
    "\n",
    "stock_name = widgets.Dropdown(options=['Aptech Ltd.', 'Tata Consultancy Services Ltd.',\n",
    "                                       'Infosys Ltd.'])\n",
    "stock_symbol = widgets.Dropdown(options=['APTECHT', 'TCS', 'INFY'])\n",
    "order_type = widgets.Dropdown(options=['RL', 'SL', 'OL', 'CA'])\n",
    "total_quantity = widgets.IntText()\n",
    "price = widgets.FloatText()\n",
    "stock_range = widgets.FloatRangeSlider(min=0, max=100000)\n",
    "date = widgets.DatePicker(disabled=False)\n",
    "\n",
    "open_tb = widgets.FloatText(value=0.0, disabled=True)\n",
    "low_tb = widgets.FloatText(value=0.0, disabled=True)\n",
    "high_tb = widgets.FloatText(value=0.0, disabled=True)\n",
    "close_tb = widgets.FloatText(value=0.0, disabled=True)\n",
    "\n",
    "submit_button = widgets.Button(description='Submit Order', button_style='info')\n",
    "\n",
    "\n",
    "# symbol to name and vice-versa\n",
    "\n",
    "def on_change_n2c(change):\n",
    "    if change['type'] == 'change' and change['name'] == 'value':\n",
    "        stock_symbol.value = name_to_code[stock_name.value]\n",
    "\n",
    "stock_name.observe(on_change_n2c)\n",
    "\n",
    "def on_change_c2n(change):\n",
    "    if change['type'] == 'change' and change['name'] == 'value':\n",
    "        stock_name.value = code_to_name[stock_symbol.value]\n",
    "        \n",
    "stock_symbol.observe(on_change_c2n)\n",
    "\n",
    "# # submit function\n",
    "\n",
    "db_dict = {}\n",
    "def handle_submit(sender):\n",
    "    db_dict = {\n",
    "        'Stock Name': stock_name.value,\n",
    "        'Stock Symbol': stock_symbol.value,\n",
    "        'Stock ID': code_to_id[stock_symbol.value],\n",
    "        'Order Type': order_type.value,\n",
    "        'Total Quantity': total_quantity.value,\n",
    "        'Price': price.value,\n",
    "        'Stock Range': stock_range.value,\n",
    "        'Date': date.value\n",
    "    }\n",
    "    \n",
    "    obj = Predict(stock_name.value, stock_symbol.value, date.value)\n",
    "    result = obj.predict_values()\n",
    "    print(result)\n",
    "    open_tb.value = result['Open']\n",
    "    close_tb.value = result['Close']\n",
    "    high_tb.value = result['High']\n",
    "    low_tb.value = result['Low']\n",
    "\n",
    "submit_button.on_click(handle_submit)"
   ]
  },
  {
   "cell_type": "code",
   "execution_count": 3,
   "metadata": {
    "ExecuteTime": {
     "end_time": "2018-03-18T04:56:34.279720Z",
     "start_time": "2018-03-18T04:56:31.579275Z"
    },
    "code_folding": []
   },
   "outputs": [
    {
     "name": "stderr",
     "output_type": "stream",
     "text": [
      "Using TensorFlow backend.\n",
      "/Users/vatsalsmacbook/anaconda/envs/NewFrontier/lib/python3.6/importlib/_bootstrap.py:219: RuntimeWarning: compiletime version 3.5 of module 'tensorflow.python.framework.fast_tensor_util' does not match runtime version 3.6\n",
      "  return f(*args, **kwds)\n"
     ]
    }
   ],
   "source": [
    "# Class\n",
    "from keras.models import load_model\n",
    "import keras\n",
    "import pandas as pd\n",
    "from dateutil import parser\n",
    "from sklearn.preprocessing import MinMaxScaler\n",
    "\n",
    "class Predict(object):\n",
    "    \n",
    "    lb = 7 \n",
    "    \n",
    "    def __init__(self, name, ticker, date):\n",
    "\n",
    "        self.NAME    = name\n",
    "        self.TICKER  = ticker\n",
    "        self.DATE    = date\n",
    "        self.MODEL   = self.lm()\n",
    "        self.RESULTS = self.load_dictionary()\n",
    "        self.DATA    = self.load_data()\n",
    "        \n",
    "    def load_dictionary(self):\n",
    "        return {'Open' : 0,\n",
    "                'Close': 0,\n",
    "                'High' : 0,\n",
    "                'Low'  : 0  }\n",
    "    \n",
    "    def load_data(self):\n",
    "        table = pd.read_csv('../src/csv/'+'NSE-'+self.TICKER+'.csv')\n",
    "        table['Date'] = pd.to_datetime(table['Date'])\n",
    "        table = table.iloc[::-1,:]\n",
    "        return table\n",
    "    \n",
    "    def lm(self):\n",
    "        open_model  = load_model('../src/models/'+self.TICKER+'_Open.h5')\n",
    "        close_model = load_model('../src/models/'+self.TICKER+'_Close.h5')\n",
    "        high_model  = load_model('../src/models/'+self.TICKER+'_High.h5')\n",
    "        low_model   = load_model('../src/models/'+self.TICKER+'_Low.h5')\n",
    "        return {'Open' :open_model,\n",
    "                'Close':close_model,\n",
    "                'High' :high_model,\n",
    "                'Low'  :low_model   }\n",
    "    \n",
    "    def predict_values(self):\n",
    "        for key, value in self.RESULTS.items():\n",
    "            scl = MinMaxScaler()\n",
    "            data = self.DATA\n",
    "            cl = self.DATA[key].values.reshape(self.DATA[key].shape[0],1)\n",
    "            cl = scl.fit_transform(cl)\n",
    "            indx = 0\n",
    "            for _ in data.Date:\n",
    "                if _.date == self.DATE:\n",
    "                    indx = data.index[data.Date == _]\n",
    "            test = cl[indx:indx+self.lb,0]\n",
    "            test = test.reshape((1,test.shape[0],1))\n",
    "            predicted_value = self.MODEL[key].predict(test)\n",
    "            self.RESULTS[key] = scl.inverse_transform(predicted_value.reshape(-1,1))[0,0]\n",
    "        return self.RESULTS"
   ]
  },
  {
   "cell_type": "code",
   "execution_count": 4,
   "metadata": {
    "ExecuteTime": {
     "end_time": "2018-03-18T04:56:34.451936Z",
     "start_time": "2018-03-18T04:56:34.281588Z"
    },
    "scrolled": true
   },
   "outputs": [
    {
     "data": {
      "application/vnd.jupyter.widget-view+json": {
       "model_id": "792490d49dda494695c0a736fc4ba50d",
       "version_major": 2,
       "version_minor": 0
      },
      "text/html": [
       "<p>Failed to display Jupyter Widget of type <code>VBox</code>.</p>\n",
       "<p>\n",
       "  If you're reading this message in the Jupyter Notebook or JupyterLab Notebook, it may mean\n",
       "  that the widgets JavaScript is still loading. If this message persists, it\n",
       "  likely means that the widgets JavaScript library is either not installed or\n",
       "  not enabled. See the <a href=\"https://ipywidgets.readthedocs.io/en/stable/user_install.html\">Jupyter\n",
       "  Widgets Documentation</a> for setup instructions.\n",
       "</p>\n",
       "<p>\n",
       "  If you're reading this message in another frontend (for example, a static\n",
       "  rendering on GitHub or <a href=\"https://nbviewer.jupyter.org/\">NBViewer</a>),\n",
       "  it may mean that your frontend doesn't currently support widgets.\n",
       "</p>\n"
      ],
      "text/plain": [
       "VBox(children=(HBox(children=(Label(value='Stock Name:     '), Dropdown(options=('Aptech Ltd.', 'Tata Consultancy Services Ltd.', 'Infosys Ltd.'), value='Aptech Ltd.'))), HBox(children=(Label(value='Stock Symbol:   '), Dropdown(options=('APTECHT', 'TCS', 'INFY'), value='APTECHT'))), HBox(children=(Label(value='Order Type:     '), Dropdown(options=('RL', 'SL', 'OL', 'CA'), value='RL'))), HBox(children=(Label(value='Total Quantity: '), IntText(value=0))), HBox(children=(Label(value='Price:          '), FloatText(value=0.0))), HBox(children=(Label(value='Stock Range:    '), FloatRangeSlider(value=(25000.0, 75000.0), max=100000.0))), HBox(children=(Label(value='Pick a date:    '), DatePicker(value=None))), HBox(children=(Label(value='Open: '), FloatText(value=0.0, disabled=True), Label(value='High: '), FloatText(value=0.0, disabled=True))), HBox(children=(Label(value='Low: '), FloatText(value=0.0, disabled=True), Label(value='Close: '), FloatText(value=0.0, disabled=True))), HBox(children=(Button(button_style='info', description='Submit Order', style=ButtonStyle()),))))"
      ]
     },
     "metadata": {},
     "output_type": "display_data"
    },
    {
     "name": "stdout",
     "output_type": "stream",
     "text": [
      "{'Open': 75.520325, 'Close': 75.718185, 'High': 76.798576, 'Low': 74.917595}\n",
      "{'Open': 2148.0388, 'Close': 2152.5947, 'High': 2178.8909, 'Low': 2130.9282}\n"
     ]
    }
   ],
   "source": [
    "form = VBox([\n",
    "    HBox([Label('Stock Name:     '), stock_name]),\n",
    "    HBox([Label('Stock Symbol:   '), stock_symbol]),\n",
    "    HBox([Label('Order Type:     '), order_type]),\n",
    "    HBox([Label('Total Quantity: '), total_quantity]),\n",
    "    HBox([Label('Price:          '), price]),\n",
    "#     HBox([Label('Client Code:    '), client_code]),\n",
    "    HBox([Label('Stock Range:    '), stock_range]),\n",
    "    HBox([Label('Pick a date:    '), date]),\n",
    "    HBox([Label('Open: '), open_tb, Label('High: '), high_tb]),\n",
    "    HBox([Label('Low: '), low_tb, Label('Close: '), close_tb]),\n",
    "    HBox([submit_button]),\n",
    "])\n",
    "\n",
    "display(form)"
   ]
  },
  {
   "cell_type": "code",
   "execution_count": null,
   "metadata": {
    "collapsed": true
   },
   "outputs": [],
   "source": []
  }
 ],
 "metadata": {
  "kernelspec": {
   "display_name": "Python 3",
   "language": "python",
   "name": "python3"
  },
  "language_info": {
   "codemirror_mode": {
    "name": "ipython",
    "version": 3
   },
   "file_extension": ".py",
   "mimetype": "text/x-python",
   "name": "python",
   "nbconvert_exporter": "python",
   "pygments_lexer": "ipython3",
   "version": "3.6.3"
  }
 },
 "nbformat": 4,
 "nbformat_minor": 2
}
